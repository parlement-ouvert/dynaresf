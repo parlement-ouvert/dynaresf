{
 "cells": [
  {
   "cell_type": "code",
   "execution_count": 12,
   "metadata": {},
   "outputs": [
    {
     "ename": "ERROR",
     "evalue": "Error in library(R.matlab): there is no package called 'R.matlab'\n",
     "output_type": "error",
     "traceback": [
      "Error in library(R.matlab): there is no package called 'R.matlab'\nTraceback:\n",
      "1. library(R.matlab)",
      "2. stop(txt, domain = NA)"
     ]
    }
   ],
   "source": [
    "library(dplyr)\n",
    "library(lubridate)\n",
    "library(R.matlab)\n",
    "library(tidyr)\n",
    "library(tibble)\n",
    "library(rdbnomics)"
   ]
  },
  {
   "cell_type": "code",
   "execution_count": 4,
   "metadata": {},
   "outputs": [],
   "source": [
    "gdp_values <- rdb(ids=\"INSEE/CNT-2010-PIB-EQB-RF/T.CNT-EQUILIBRE_PIB.SO.PIB.SO.VALEUR_ABSOLUE.FE.V.EUROS.CVS-CJO\") %>%\n",
    "add_column(var=\"gdp_values\")"
   ]
  },
  {
   "cell_type": "code",
   "execution_count": 5,
   "metadata": {},
   "outputs": [],
   "source": [
    "expenditures_values <-\n",
    "rdb(ids=\"INSEE/CNT-2010-CSI/T.CNT-OPERATIONS_SECTEURS_INST.S13.E.OTE.VALEUR_ABSOLUE.FE.EUROS.CVS-CJO\") %>%\n",
    "add_column(var=\"expenditures_values\")"
   ]
  },
  {
   "cell_type": "code",
   "execution_count": 6,
   "metadata": {},
   "outputs": [],
   "source": [
    "debt_gdp <-\n",
    "rdb(ids=\"INSEE/DETTE-TRIM-APU/T.DETTE_MAASTRICHT.S13.F.PROPORTION.FE.POURCENT.BRUT.SO\") %>%\n",
    "add_column(var=\"debt_gdp\") %>%\n",
    "mutate(value=value/100)"
   ]
  },
  {
   "cell_type": "code",
   "execution_count": 10,
   "metadata": {},
   "outputs": [],
   "source": [
    "df <-\n",
    "bind_rows(gdp_values,expenditures_values,debt_gdp) %>%\n",
    "select(period,value,var) %>%\n",
    "spread(var,value) %>%\n",
    "mutate(expenditures_gdp=expenditures_values/gdp_values) %>%\n",
    "select(period,expenditures_gdp,debt_gdp) %>%\n",
    "filter(year(period)>=1996 & year(period)<=2017) %>%\n",
    "mutate(period=paste(year(period),quarter(period),sep=\"Q\"))\n",
    "\n",
    "colnames(df)[1] <- \"\"\n",
    "\n",
    "write.csv(df,\"data.csv\",row.names = F)"
   ]
  },
  {
   "cell_type": "code",
   "execution_count": 1,
   "metadata": {},
   "outputs": [],
   "source": [
    "system2(\n",
    "    'octave',\n",
    "    args = c('--eval', '\"addpath /usr/local/lib/dynare/matlab/; dynare model.mod\"', '--no-window-system'),\n",
    "    stdout = \"stdout.txt\",\n",
    "    stderr = \"stderr.txt\",\n",
    "    stdin = \"\",\n",
    "    input = NULL,\n",
    "    env = character(),\n",
    "    wait = TRUE,\n",
    ")\n",
    "# The output of this command is written in files `stderr.txt` and `stdout.txt`.\n",
    "# Dynare use the model `model.mod` and generate the files beginning with `model`."
   ]
  },
  {
   "cell_type": "code",
   "execution_count": null,
   "metadata": {},
   "outputs": [],
   "source": []
  }
 ],
 "metadata": {
  "kernelspec": {
   "display_name": "R",
   "language": "R",
   "name": "ir"
  },
  "language_info": {
   "codemirror_mode": "r",
   "file_extension": ".r",
   "mimetype": "text/x-r-source",
   "name": "R",
   "pygments_lexer": "r",
   "version": "3.4.4"
  }
 },
 "nbformat": 4,
 "nbformat_minor": 2
}
