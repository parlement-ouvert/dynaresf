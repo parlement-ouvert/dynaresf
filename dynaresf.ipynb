{
 "cells": [
  {
   "cell_type": "code",
   "execution_count": 1,
   "metadata": {},
   "outputs": [
    {
     "name": "stderr",
     "output_type": "stream",
     "text": [
      "\n",
      "Attaching package: 'dplyr'\n",
      "\n",
      "The following objects are masked from 'package:stats':\n",
      "\n",
      "    filter, lag\n",
      "\n",
      "The following objects are masked from 'package:base':\n",
      "\n",
      "    intersect, setdiff, setequal, union\n",
      "\n",
      "\n",
      "Attaching package: 'lubridate'\n",
      "\n",
      "The following object is masked from 'package:base':\n",
      "\n",
      "    date\n",
      "\n",
      "R.matlab v3.6.1 (2016-10-19) successfully loaded. See ?R.matlab for help.\n",
      "\n",
      "Attaching package: 'R.matlab'\n",
      "\n",
      "The following objects are masked from 'package:base':\n",
      "\n",
      "    getOption, isOpen\n",
      "\n",
      "Warning message:\n",
      "\"replacing previous import 'dplyr::intersect' by 'lubridate::intersect' when loading 'rdbnomics'\"Warning message:\n",
      "\"replacing previous import 'dplyr::union' by 'lubridate::union' when loading 'rdbnomics'\"Warning message:\n",
      "\"replacing previous import 'dplyr::setdiff' by 'lubridate::setdiff' when loading 'rdbnomics'\""
     ]
    }
   ],
   "source": [
    "library(dplyr)\n",
    "library(lubridate)\n",
    "library(R.matlab)\n",
    "library(rdbnomics)\n",
    "library(tibble)\n",
    "library(tidyr)"
   ]
  },
  {
   "cell_type": "code",
   "execution_count": 2,
   "metadata": {},
   "outputs": [],
   "source": [
    "gdp_values <- rdb(ids=\"INSEE/CNT-2010-PIB-EQB-RF/T.CNT-EQUILIBRE_PIB.SO.PIB.SO.VALEUR_ABSOLUE.FE.V.EUROS.CVS-CJO\") %>%\n",
    "add_column(var=\"gdp_values\")"
   ]
  },
  {
   "cell_type": "code",
   "execution_count": 3,
   "metadata": {},
   "outputs": [],
   "source": [
    "expenditures_values <-\n",
    "rdb(ids=\"INSEE/CNT-2010-CSI/T.CNT-OPERATIONS_SECTEURS_INST.S13.E.OTE.VALEUR_ABSOLUE.FE.EUROS.CVS-CJO\") %>%\n",
    "add_column(var=\"expenditures_values\")"
   ]
  },
  {
   "cell_type": "code",
   "execution_count": 4,
   "metadata": {},
   "outputs": [],
   "source": [
    "debt_gdp <-\n",
    "rdb(ids=\"INSEE/DETTE-TRIM-APU/T.DETTE_MAASTRICHT.S13.F.PROPORTION.FE.POURCENT.BRUT.SO\") %>%\n",
    "add_column(var=\"debt_gdp\") %>%\n",
    "mutate(value=value/100)"
   ]
  },
  {
   "cell_type": "code",
   "execution_count": 5,
   "metadata": {},
   "outputs": [],
   "source": [
    "df <-\n",
    "bind_rows(gdp_values,expenditures_values,debt_gdp) %>%\n",
    "select(period,value,var) %>%\n",
    "spread(var,value) %>%\n",
    "mutate(expenditures_gdp=expenditures_values/gdp_values) %>%\n",
    "select(period,expenditures_gdp,debt_gdp) %>%\n",
    "filter(year(period)>=1996 & year(period)<=2017) %>%\n",
    "mutate(period=paste(year(period),quarter(period),sep=\"Q\"))\n",
    "\n",
    "colnames(df)[1] <- \"\"\n",
    "\n",
    "write.csv(df,\"data.csv\",row.names = F)"
   ]
  },
  {
   "cell_type": "code",
   "execution_count": 6,
   "metadata": {},
   "outputs": [],
   "source": [
    "system2(\n",
    "    'octave',\n",
    "    args = c('--eval', '\"addpath /usr/local/lib/dynare/matlab/; dynare model.mod\"', '--no-window-system'),\n",
    "    stdout = \"stdout.txt\",\n",
    "    stderr = \"stderr.txt\",\n",
    "    stdin = \"\",\n",
    "    input = NULL,\n",
    "    env = character(),\n",
    "    wait = TRUE,\n",
    ")\n",
    "# The output of this command is written in files `stderr.txt` and `stdout.txt`.\n",
    "# Dynare use the model `model.mod` and generate the files beginning with `model`."
   ]
  },
  {
   "cell_type": "code",
   "execution_count": 7,
   "metadata": {},
   "outputs": [
    {
     "data": {
      "text/html": [
       "<iframe src=\"http://shiny.nomics.world/toto/?url=https%3A%2F%2Fhub.mybinder.org%2Fuser%2F%2Ffiles%2Fhome%2Fjovyan%2Fmodel.m%3Ftoken%3Dbe82a64365dce722d1e3120705cc982659a3ffe4bf8e5bd8\" height=\"600\" width=\"800\">Votre navigateur n'affiche pas cette iframe</iframe>"
      ]
     },
     "metadata": {},
     "output_type": "display_data"
    }
   ],
   "source": [
    "user <- Sys.getenv(c('JUPYTERHUB_USER'))\n",
    "output <- system2(\n",
    "    'jupyter',\n",
    "    args = c('notebook', 'list'),\n",
    "    stdout = TRUE,\n",
    "    stderr = TRUE,\n",
    "    stdin = \"\",\n",
    "    input = NULL,\n",
    "    env = character(),\n",
    "    wait = TRUE,\n",
    ")\n",
    "match <- regexpr(\"(?<=token=)[^ ]*\", output, perl=TRUE)\n",
    "token <- regmatches(output, match)[1]\n",
    "model_url <- paste0('https://hub.mybinder.org/user/', user, '/files/home/jovyan/model.m?token=', token)\n",
    "shiny_url <- paste0('http://shiny.nomics.world/toto/?url=', URLencode(model_url, reserved=TRUE))\n",
    "IRdisplay::display_html(paste0('<iframe src=\"', shiny_url, '\" height=\"600\" width=\"800\">Votre navigateur n\\'affiche pas cette iframe</iframe>'))"
   ]
  }
 ],
 "metadata": {
  "kernelspec": {
   "display_name": "R",
   "language": "R",
   "name": "ir"
  },
  "language_info": {
   "codemirror_mode": "r",
   "file_extension": ".r",
   "mimetype": "text/x-r-source",
   "name": "R",
   "pygments_lexer": "r",
   "version": "3.4.4"
  }
 },
 "nbformat": 4,
 "nbformat_minor": 2
}
