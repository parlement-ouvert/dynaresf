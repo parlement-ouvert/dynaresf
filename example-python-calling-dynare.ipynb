{
 "cells": [
  {
   "cell_type": "code",
   "execution_count": 1,
   "metadata": {},
   "outputs": [],
   "source": [
    "import subprocess"
   ]
  },
  {
   "cell_type": "code",
   "execution_count": 2,
   "metadata": {},
   "outputs": [],
   "source": [
    "completed_process = subprocess.run(['octave', '--eval', 'addpath /usr/local/lib/dynare/matlab/; dynare model.mod', '--no-window-system'], encoding='utf-8', stderr=subprocess.PIPE, stdout=subprocess.PIPE)"
   ]
  },
  {
   "cell_type": "code",
   "execution_count": 3,
   "metadata": {},
   "outputs": [
    {
     "name": "stdout",
     "output_type": "stream",
     "text": [
      "\n",
      "Configuring Dynare ...\n",
      "[mex] Generalized QZ.\n",
      "[mex] Sylvester equation solution.\n",
      "[mex] Kronecker products.\n",
      "[mex] Sparse kronecker products.\n",
      "[mex] Local state space iteration (second order).\n",
      "[mex] Bytecode evaluation.\n",
      "[mex] k-order perturbation solver.\n",
      "[mex] k-order solution simulation.\n",
      "[mex] Quasi Monte-Carlo sequence (Sobol).\n",
      "[mex] Markov Switching SBVAR.\n",
      "\n",
      "Using 64-bit preprocessor\n",
      "Starting Dynare (version 4.6-unstable).\n",
      "Calling Dynare with arguments: \n",
      "{\n",
      "  [1,1] = stochastic\n",
      "}\n",
      "Starting preprocessing of the model file ...\n",
      "Found 3 equation(s).\n",
      "Evaluating expressions...done\n",
      "Computing static model derivatives:\n",
      " - order 1\n",
      "Computing dynamic model derivatives:\n",
      " - order 1\n",
      " - order 2\n",
      "Processing outputs ...\n",
      "done\n",
      "Preprocessing completed.\n",
      "\n",
      "\n",
      "STEADY-STATE RESULTS:\n",
      "\n",
      "y1 \t\t 0\n",
      "y2 \t\t 0\n",
      "y3 \t\t 0\n",
      "\n",
      "EIGENVALUES:\n",
      "         Modulus             Real        Imaginary\n",
      "\n",
      "             0.7              0.7                0\n",
      "             0.8              0.8                0\n",
      "             0.9              0.9                0\n",
      "\n",
      "\n",
      "There are 0 eigenvalue(s) larger than 1 in modulus \n",
      "for 0 forward-looking variable(s)\n",
      "\n",
      "The rank condition is verified.\n",
      "\n",
      "\n"
     ]
    }
   ],
   "source": [
    "print(completed_process.stdout)"
   ]
  },
  {
   "cell_type": "code",
   "execution_count": 4,
   "metadata": {},
   "outputs": [
    {
     "name": "stdout",
     "output_type": "stream",
     "text": [
      "warning: function /usr/local/lib/dynare/matlab/missing/corrcoef/tcdf.m shadows a core library function\n",
      "warning: called from\n",
      "    dynare_config at line 142 column 1\n",
      "    dynare at line 69 column 12\n",
      "warning: function /usr/local/lib/dynare/matlab/missing/corrcoef/corrcoef.m shadows a core library function\n",
      "warning: called from\n",
      "    dynare_config at line 142 column 1\n",
      "    dynare at line 69 column 12\n",
      "warning: X13 is not available!\n",
      "warning: called from\n",
      "    initialize_dseries_toolbox at line 85 column 5\n",
      "    dynare_config at line 248 column 1\n",
      "    dynare at line 69 column 12\n",
      "error: no graphics toolkits are available!\n",
      "\n"
     ]
    }
   ],
   "source": [
    "print(completed_process.stderr)"
   ]
  },
  {
   "cell_type": "code",
   "execution_count": 5,
   "metadata": {},
   "outputs": [
    {
     "ename": "CalledProcessError",
     "evalue": "Command '['octave', '--eval', 'addpath /usr/local/lib/dynare/matlab/; dynare model.mod', '--no-window-system']' returned non-zero exit status 1.",
     "output_type": "error",
     "traceback": [
      "\u001b[0;31m---------------------------------------------------------------------------\u001b[0m",
      "\u001b[0;31mCalledProcessError\u001b[0m                        Traceback (most recent call last)",
      "\u001b[0;32m<ipython-input-5-8f3410dfd7cd>\u001b[0m in \u001b[0;36m<module>\u001b[0;34m()\u001b[0m\n\u001b[1;32m      1\u001b[0m \u001b[0;31m# The line below currently fails, because model.mod contains plot commands.\u001b[0m\u001b[0;34m\u001b[0m\u001b[0;34m\u001b[0m\u001b[0m\n\u001b[0;32m----> 2\u001b[0;31m \u001b[0mcompleted_process\u001b[0m\u001b[0;34m.\u001b[0m\u001b[0mcheck_returncode\u001b[0m\u001b[0;34m(\u001b[0m\u001b[0;34m)\u001b[0m\u001b[0;34m\u001b[0m\u001b[0m\n\u001b[0m",
      "\u001b[0;32m/usr/lib/python3.6/subprocess.py\u001b[0m in \u001b[0;36mcheck_returncode\u001b[0;34m(self)\u001b[0m\n\u001b[1;32m    367\u001b[0m         \u001b[0;32mif\u001b[0m \u001b[0mself\u001b[0m\u001b[0;34m.\u001b[0m\u001b[0mreturncode\u001b[0m\u001b[0;34m:\u001b[0m\u001b[0;34m\u001b[0m\u001b[0m\n\u001b[1;32m    368\u001b[0m             raise CalledProcessError(self.returncode, self.args, self.stdout,\n\u001b[0;32m--> 369\u001b[0;31m                                      self.stderr)\n\u001b[0m\u001b[1;32m    370\u001b[0m \u001b[0;34m\u001b[0m\u001b[0m\n\u001b[1;32m    371\u001b[0m \u001b[0;34m\u001b[0m\u001b[0m\n",
      "\u001b[0;31mCalledProcessError\u001b[0m: Command '['octave', '--eval', 'addpath /usr/local/lib/dynare/matlab/; dynare model.mod', '--no-window-system']' returned non-zero exit status 1."
     ]
    }
   ],
   "source": [
    "# The line below currently fails, because model.mod contains plot commands.\n",
    "completed_process.check_returncode()"
   ]
  },
  {
   "cell_type": "code",
   "execution_count": null,
   "metadata": {},
   "outputs": [],
   "source": []
  }
 ],
 "metadata": {
  "kernelspec": {
   "display_name": "Python 3",
   "language": "python",
   "name": "python3"
  },
  "language_info": {
   "codemirror_mode": {
    "name": "ipython",
    "version": 3
   },
   "file_extension": ".py",
   "mimetype": "text/x-python",
   "name": "python",
   "nbconvert_exporter": "python",
   "pygments_lexer": "ipython3",
   "version": "3.6.5rc1"
  }
 },
 "nbformat": 4,
 "nbformat_minor": 2
}
