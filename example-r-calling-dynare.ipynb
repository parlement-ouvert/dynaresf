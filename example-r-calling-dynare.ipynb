{
 "cells": [
  {
   "cell_type": "code",
   "execution_count": 1,
   "metadata": {},
   "outputs": [],
   "source": [
    "system2(\n",
    "    'octave',\n",
    "    args = c('--eval', '\"addpath /usr/local/lib/dynare/matlab/; dynare model.mod\"', '--no-window-system'),\n",
    "    stdout = \"stdout.txt\",\n",
    "    stderr = \"stderr.txt\",\n",
    "    stdin = \"\",\n",
    "    input = NULL,\n",
    "    env = character(),\n",
    "    wait = TRUE,\n",
    ")\n",
    "# The output of this command is written in files `stderr.txt` and `stdout.txt`.\n",
    "# Dynare use the model `model.mod` and generate the files beginning with `model`."
   ]
  },
  {
   "cell_type": "code",
   "execution_count": null,
   "metadata": {},
   "outputs": [],
   "source": []
  }
 ],
 "metadata": {
  "kernelspec": {
   "display_name": "R",
   "language": "R",
   "name": "ir"
  },
  "language_info": {
   "codemirror_mode": "r",
   "file_extension": ".r",
   "mimetype": "text/x-r-source",
   "name": "R",
   "pygments_lexer": "r",
   "version": "3.4.4"
  }
 },
 "nbformat": 4,
 "nbformat_minor": 2
}
